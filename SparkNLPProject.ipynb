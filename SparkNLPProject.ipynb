{
  "nbformat": 4,
  "nbformat_minor": 0,
  "metadata": {
    "colab": {
      "provenance": [],
      "authorship_tag": "ABX9TyPcfw5QH6R4AXnyHQfnUCRh",
      "include_colab_link": true
    },
    "kernelspec": {
      "name": "python3",
      "display_name": "Python 3"
    },
    "language_info": {
      "name": "python"
    }
  },
  "cells": [
    {
      "cell_type": "markdown",
      "metadata": {
        "id": "view-in-github",
        "colab_type": "text"
      },
      "source": [
        "<a href=\"https://colab.research.google.com/github/PravinTiwari023/SparkNLP-Project/blob/main/SparkNLPProject.ipynb\" target=\"_parent\"><img src=\"https://colab.research.google.com/assets/colab-badge.svg\" alt=\"Open In Colab\"/></a>"
      ]
    },
    {
      "cell_type": "code",
      "source": [
        "# !pip install spark-nlp==5.2.2"
      ],
      "metadata": {
        "colab": {
          "base_uri": "https://localhost:8080/"
        },
        "id": "rxCdkmY3lLGc",
        "outputId": "edcc6e6c-acb8-45e0-a5ac-d8f791fb0249"
      },
      "execution_count": null,
      "outputs": [
        {
          "output_type": "stream",
          "name": "stdout",
          "text": [
            "Collecting spark-nlp==5.2.2\n",
            "  Downloading spark_nlp-5.2.2-py2.py3-none-any.whl (547 kB)\n",
            "\u001b[2K     \u001b[90m━━━━━━━━━━━━━━━━━━━━━━━━━━━━━━━━━━━━━━━━\u001b[0m \u001b[32m547.3/547.3 kB\u001b[0m \u001b[31m3.7 MB/s\u001b[0m eta \u001b[36m0:00:00\u001b[0m\n",
            "\u001b[?25hInstalling collected packages: spark-nlp\n",
            "Successfully installed spark-nlp-5.2.2\n"
          ]
        }
      ]
    },
    {
      "cell_type": "code",
      "source": [
        "# !pip install pyspark"
      ],
      "metadata": {
        "colab": {
          "base_uri": "https://localhost:8080/"
        },
        "id": "uQ071N4y1w4T",
        "outputId": "8bf64fcb-4408-4e26-e9d2-c4046c8ecd5c"
      },
      "execution_count": null,
      "outputs": [
        {
          "output_type": "stream",
          "name": "stdout",
          "text": [
            "Collecting pyspark\n",
            "  Downloading pyspark-3.5.0.tar.gz (316.9 MB)\n",
            "\u001b[2K     \u001b[90m━━━━━━━━━━━━━━━━━━━━━━━━━━━━━━━━━━━━━━━━\u001b[0m \u001b[32m316.9/316.9 MB\u001b[0m \u001b[31m2.8 MB/s\u001b[0m eta \u001b[36m0:00:00\u001b[0m\n",
            "\u001b[?25h  Preparing metadata (setup.py) ... \u001b[?25l\u001b[?25hdone\n",
            "Requirement already satisfied: py4j==0.10.9.7 in /usr/local/lib/python3.10/dist-packages (from pyspark) (0.10.9.7)\n",
            "Building wheels for collected packages: pyspark\n",
            "  Building wheel for pyspark (setup.py) ... \u001b[?25l\u001b[?25hdone\n",
            "  Created wheel for pyspark: filename=pyspark-3.5.0-py2.py3-none-any.whl size=317425345 sha256=f705573ffd9c01f037a01e180f4b4815f1105c008f2673aaee82238a832df2b9\n",
            "  Stored in directory: /root/.cache/pip/wheels/41/4e/10/c2cf2467f71c678cfc8a6b9ac9241e5e44a01940da8fbb17fc\n",
            "Successfully built pyspark\n",
            "Installing collected packages: pyspark\n",
            "Successfully installed pyspark-3.5.0\n"
          ]
        }
      ]
    },
    {
      "cell_type": "code",
      "source": [
        "# Ignore this part\n",
        "import pandas as pd\n",
        "import numpy as np\n",
        "import json\n",
        "\n",
        "from pyspark.ml import Pipeline\n",
        "from pyspark.sql import SparkSession\n",
        "import pyspark.sql.functions as F\n",
        "\n",
        "import sparknlp\n",
        "from sparknlp.annotator import *\n",
        "from sparknlp.base import *\n",
        "from sparknlp.pretrained import PretrainedPipeline\n",
        "from pyspark.sql.types import StringType, IntegerType"
      ],
      "metadata": {
        "id": "hRIJ74wI1tfs"
      },
      "execution_count": 1,
      "outputs": []
    },
    {
      "cell_type": "code",
      "source": [
        "# Ignore this part\n",
        "spark = sparknlp.start()\n",
        "print (\"Spark NLP Version :\", sparknlp.version())\n",
        "spark"
      ],
      "metadata": {
        "colab": {
          "base_uri": "https://localhost:8080/",
          "height": 240
        },
        "id": "NSUjsvcz1tvc",
        "outputId": "5f60beec-d01e-4117-c95e-de447f8a807f"
      },
      "execution_count": 2,
      "outputs": [
        {
          "output_type": "stream",
          "name": "stdout",
          "text": [
            "Spark NLP Version : 5.2.2\n"
          ]
        },
        {
          "output_type": "execute_result",
          "data": {
            "text/plain": [
              "<pyspark.sql.session.SparkSession at 0x789f986990c0>"
            ],
            "text/html": [
              "\n",
              "            <div>\n",
              "                <p><b>SparkSession - in-memory</b></p>\n",
              "                \n",
              "        <div>\n",
              "            <p><b>SparkContext</b></p>\n",
              "\n",
              "            <p><a href=\"http://6203300975e5:4040\">Spark UI</a></p>\n",
              "\n",
              "            <dl>\n",
              "              <dt>Version</dt>\n",
              "                <dd><code>v3.5.0</code></dd>\n",
              "              <dt>Master</dt>\n",
              "                <dd><code>local[*]</code></dd>\n",
              "              <dt>AppName</dt>\n",
              "                <dd><code>Spark NLP</code></dd>\n",
              "            </dl>\n",
              "        </div>\n",
              "        \n",
              "            </div>\n",
              "        "
            ]
          },
          "metadata": {},
          "execution_count": 2
        }
      ]
    },
    {
      "cell_type": "code",
      "source": [
        "# Ignore this part\n",
        "document_assembler = DocumentAssembler()\\\n",
        ".setInputCol(\"text\")\\\n",
        ".setOutputCol(\"documents\")\n",
        "\n",
        "t5_ = T5Transformer() \\\n",
        "  .pretrained(\"t5_small\", 'en') \\\n",
        "  .setTask(\"summarize:\")\\\n",
        "  .setMaxOutputLength(200)\\\n",
        "  .setInputCols([\"documents\"]) \\\n",
        "  .setOutputCol(\"summaries\")\n",
        "\n",
        "summarizer_pp = Pipeline(stages=[document_assembler, t5_])"
      ],
      "metadata": {
        "colab": {
          "base_uri": "https://localhost:8080/"
        },
        "id": "fFIy-y0V1nac",
        "outputId": "55c2e59d-5c7e-40f5-a700-8993a27e6628"
      },
      "execution_count": 3,
      "outputs": [
        {
          "output_type": "stream",
          "name": "stdout",
          "text": [
            "t5_small download started this may take some time.\n",
            "Approximate size to download 241.9 MB\n",
            "[OK!]\n"
          ]
        }
      ]
    },
    {
      "cell_type": "code",
      "source": [
        "documentAssembler = DocumentAssembler() \\\n",
        "    .setInputCol(\"text\") \\\n",
        "    .setOutputCol(\"documents\")\n",
        "\n",
        "t5 = T5Transformer.pretrained(\"t5_passive_to_active_styletransfer\") \\\n",
        "    .setTask(\"transfer Passive to Active:\") \\\n",
        "    .setInputCols([\"documents\"]) \\\n",
        "    .setMaxOutputLength(200) \\\n",
        "    .setOutputCol(\"transfers\")\n",
        "\n",
        "pipeline = Pipeline().setStages([documentAssembler, t5])"
      ],
      "metadata": {
        "colab": {
          "base_uri": "https://localhost:8080/"
        },
        "id": "DALEn58oAmay",
        "outputId": "f97155d0-9e38-4237-a7d9-e885f570ece6"
      },
      "execution_count": 4,
      "outputs": [
        {
          "output_type": "stream",
          "name": "stdout",
          "text": [
            "t5_passive_to_active_styletransfer download started this may take some time.\n",
            "Approximate size to download 253.2 MB\n",
            "[OK!]\n"
          ]
        }
      ]
    },
    {
      "cell_type": "code",
      "source": [
        "from typing_extensions import Text\n",
        "class NLPApp:\n",
        "  # Constructor\n",
        "  def __init__(self):\n",
        "    self.__database = {}\n",
        "    self.__First_menu()\n",
        "\n",
        "  def __First_menu(self):\n",
        "    first_input = input('''Hi! How would you like to proceed?\n",
        "    1. Register\n",
        "    2. Login\n",
        "    3. Exit\\n''')\n",
        "\n",
        "    if first_input == '1':\n",
        "      # SignUp\n",
        "      self.__Register()\n",
        "      pass\n",
        "\n",
        "    elif first_input == '2':\n",
        "      # SignIn\n",
        "      self.__Login()\n",
        "      pass\n",
        "\n",
        "    else:\n",
        "      # Exit\n",
        "      print('Thank You')\n",
        "      exit()\n",
        "\n",
        "  def __Second_menu(self):\n",
        "    first_input = input('''Hi! How would you like to proceed?\n",
        "    1. Text Summarization\n",
        "    2. Passive to Active\n",
        "    3. Exit\\n''')\n",
        "\n",
        "    if first_input == '1':\n",
        "      # SignUp\n",
        "      self.__Text_summary()\n",
        "      pass\n",
        "\n",
        "    elif first_input == '2':\n",
        "      # SignIn\n",
        "      self.__Active()\n",
        "      pass\n",
        "\n",
        "    else:\n",
        "      # Exit\n",
        "      print('Thank You')\n",
        "      exit()\n",
        "\n",
        "  def __Register(self):\n",
        "    name = input('Name: ')\n",
        "    email = input('Email: ')\n",
        "    password = input('Password: ')\n",
        "    cpassword = input('Confirm Password: ')\n",
        "\n",
        "    if cpassword == password:\n",
        "      if email is self.__database:\n",
        "        print('\\nEmail is already registered. Back to Login!')\n",
        "        self.__Login()\n",
        "      else:\n",
        "        self.__database[email] = [name, password]\n",
        "        print('\\nRegistration Successful. Now Login!')\n",
        "        self.__Login()\n",
        "\n",
        "    else:\n",
        "      print('\\nPassword are not matching')\n",
        "      self.__Register()\n",
        "\n",
        "  def __Login(self):\n",
        "    email = input('Email: ')\n",
        "    password = input('Password: ')\n",
        "\n",
        "    if email in self.__database:\n",
        "      if self.__database[email][1] == password:\n",
        "        print('\\nLogin Successful')\n",
        "        self.__Second_menu()\n",
        "    else:\n",
        "      print('\\nThis email is not registered')\n",
        "      self.__First_menu()\n",
        "\n",
        "  def __Text_summary(self):\n",
        "    text = input('Enter Text: ')\n",
        "    empty_df = spark.createDataFrame([['']]).toDF('text')\n",
        "    pipeline_model = summarizer_pp.fit(empty_df)\n",
        "    sum_lmodel = LightPipeline(pipeline_model)\n",
        "    res = sum_lmodel.fullAnnotate(text)[0]\n",
        "    print('Summary:', res['summaries'][0].result)\n",
        "    self.__Second_menu()\n",
        "\n",
        "  def __Active(self):\n",
        "    text = input('Enter Text: ')\n",
        "    pipeline_model = pipeline.fit(spark.createDataFrame([['']]).toDF('text'))\n",
        "    T5model = LightPipeline(pipeline_model)\n",
        "    res = T5model.fullAnnotate(text)[0]\n",
        "    print ('Prediction:', res['transfers'][0].result)\n",
        "    self.__Second_menu()\n",
        "\n",
        "# Creating class object\n",
        "App = NLPApp()"
      ],
      "metadata": {
        "colab": {
          "base_uri": "https://localhost:8080/"
        },
        "id": "ajbUGGLZpuUA",
        "outputId": "4f23abd1-b022-4c69-e09f-56273ca281ab"
      },
      "execution_count": 7,
      "outputs": [
        {
          "output_type": "stream",
          "name": "stdout",
          "text": [
            "Hi! How would you like to proceed?\n",
            "    1. Register\n",
            "    2. Login\n",
            "    3. Exit\n",
            "1\n",
            "Name: Pravin Tiwart\n",
            "Email: pravin@gmail.com\n",
            "Password: 1234\n",
            "Confirm Password: 1234\n",
            "\n",
            "Registration Successful. Now Login!\n",
            "Email: pravin@gmail.com\n",
            "Password: 1234\n",
            "\n",
            "Login Successful\n",
            "Hi! How would you like to proceed?\n",
            "    1. Text Summarization\n",
            "    2. Passive to Active\n",
            "    3. Exit\n",
            "1\n",
            "Enter Text: There are times when the night sky glows with bands of color. The bands may begin as cloud shapes and then spread into a great arc across the entire sky. They may fall in folds like a curtain drawn across the heavens. The lights usually grow brighter, then suddenly dim. During this time the sky glows with pale yellow, pink, green, violet, blue, and red. These lights are called the Aurora Borealis. Some people call them the Northern Lights. Scientists have been watching them for hundreds of years. They are not quite sure what causes them. In ancient times people were afraid of the Lights. They imagined that they saw fiery dragons in the sky. Some even concluded that the heavens were on fire.\n",
            "Summary: the night sky glows with bands of color . they may begin as cloud shapes and then spread into a great arc across the entire sky .\n",
            "Hi! How would you like to proceed?\n",
            "    1. Text Summarization\n",
            "    2. Passive to Active\n",
            "    3. Exit\n",
            "2\n",
            "Enter Text: Nowadays, black kites are protected.\n",
            "Prediction: He nowadays, black kites are protected\n",
            "Hi! How would you like to proceed?\n",
            "    1. Text Summarization\n",
            "    2. Passive to Active\n",
            "    3. Exit\n",
            "The flat tire was changed by Sue.\n",
            "Thank You\n"
          ]
        }
      ]
    },
    {
      "cell_type": "code",
      "source": [],
      "metadata": {
        "id": "6n7099RCwjRj"
      },
      "execution_count": null,
      "outputs": []
    }
  ]
}