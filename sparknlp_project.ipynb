{
  "nbformat": 4,
  "nbformat_minor": 0,
  "metadata": {
    "colab": {
      "provenance": [],
      "mount_file_id": "1TFYg32UluQJU6JalfNaWWSI3Ie0p7nNm",
      "authorship_tag": "ABX9TyPxQqMjDCgz8N7NMXqhFD18",
      "include_colab_link": true
    },
    "kernelspec": {
      "name": "python3",
      "display_name": "Python 3"
    },
    "language_info": {
      "name": "python"
    }
  },
  "cells": [
    {
      "cell_type": "markdown",
      "metadata": {
        "id": "view-in-github",
        "colab_type": "text"
      },
      "source": [
        "<a href=\"https://colab.research.google.com/github/PravinTiwari023/SparkNLP-Project/blob/main/sparknlp_project.ipynb\" target=\"_parent\"><img src=\"https://colab.research.google.com/assets/colab-badge.svg\" alt=\"Open In Colab\"/></a>"
      ]
    },
    {
      "cell_type": "code",
      "source": [
        "!pip install spark-nlp==5.2.2"
      ],
      "metadata": {
        "colab": {
          "base_uri": "https://localhost:8080/"
        },
        "id": "rxCdkmY3lLGc",
        "outputId": "403c3eb2-d6d6-490c-ea69-69608d4933d5"
      },
      "execution_count": null,
      "outputs": [
        {
          "output_type": "stream",
          "name": "stdout",
          "text": [
            "Collecting spark-nlp==5.2.2\n",
            "  Downloading spark_nlp-5.2.2-py2.py3-none-any.whl (547 kB)\n",
            "\u001b[2K     \u001b[90m━━━━━━━━━━━━━━━━━━━━━━━━━━━━━━━━━━━━━━━━\u001b[0m \u001b[32m547.3/547.3 kB\u001b[0m \u001b[31m6.4 MB/s\u001b[0m eta \u001b[36m0:00:00\u001b[0m\n",
            "\u001b[?25hInstalling collected packages: spark-nlp\n",
            "Successfully installed spark-nlp-5.2.2\n"
          ]
        }
      ]
    },
    {
      "cell_type": "code",
      "source": [
        "!pip install pyspark"
      ],
      "metadata": {
        "colab": {
          "base_uri": "https://localhost:8080/"
        },
        "id": "uQ071N4y1w4T",
        "outputId": "4c26c439-a1f3-475e-bee0-2f51c6e2fd2f"
      },
      "execution_count": null,
      "outputs": [
        {
          "output_type": "stream",
          "name": "stdout",
          "text": [
            "Collecting pyspark\n",
            "  Downloading pyspark-3.5.0.tar.gz (316.9 MB)\n",
            "\u001b[2K     \u001b[90m━━━━━━━━━━━━━━━━━━━━━━━━━━━━━━━━━━━━━━━━\u001b[0m \u001b[32m316.9/316.9 MB\u001b[0m \u001b[31m1.6 MB/s\u001b[0m eta \u001b[36m0:00:00\u001b[0m\n",
            "\u001b[?25h  Preparing metadata (setup.py) ... \u001b[?25l\u001b[?25hdone\n",
            "Requirement already satisfied: py4j==0.10.9.7 in /usr/local/lib/python3.10/dist-packages (from pyspark) (0.10.9.7)\n",
            "Building wheels for collected packages: pyspark\n",
            "  Building wheel for pyspark (setup.py) ... \u001b[?25l\u001b[?25hdone\n",
            "  Created wheel for pyspark: filename=pyspark-3.5.0-py2.py3-none-any.whl size=317425345 sha256=edb657d96cc00a312c561f19d9e6b559adb8a503a83b6a23aea9bac9a31b3f1d\n",
            "  Stored in directory: /root/.cache/pip/wheels/41/4e/10/c2cf2467f71c678cfc8a6b9ac9241e5e44a01940da8fbb17fc\n",
            "Successfully built pyspark\n",
            "Installing collected packages: pyspark\n",
            "Successfully installed pyspark-3.5.0\n"
          ]
        }
      ]
    },
    {
      "cell_type": "code",
      "source": [
        "# Ignore this part\n",
        "import pandas as pd\n",
        "import numpy as np\n",
        "import json\n",
        "\n",
        "from pyspark.ml import Pipeline\n",
        "from pyspark.sql import SparkSession\n",
        "import pyspark.sql.functions as F\n",
        "\n",
        "import sparknlp\n",
        "from sparknlp.annotator import *\n",
        "from sparknlp.base import *\n",
        "from sparknlp.pretrained import PretrainedPipeline\n",
        "from pyspark.sql.types import StringType, IntegerType"
      ],
      "metadata": {
        "id": "hRIJ74wI1tfs"
      },
      "execution_count": null,
      "outputs": []
    },
    {
      "cell_type": "code",
      "source": [
        "# Ignore this part\n",
        "spark = sparknlp.start()\n",
        "print (\"Spark NLP Version :\", sparknlp.version())\n",
        "spark"
      ],
      "metadata": {
        "colab": {
          "base_uri": "https://localhost:8080/",
          "height": 237
        },
        "id": "NSUjsvcz1tvc",
        "outputId": "36c8da0c-4fef-47c5-e2dc-0000d9bae7f3"
      },
      "execution_count": null,
      "outputs": [
        {
          "output_type": "stream",
          "name": "stdout",
          "text": [
            "Spark NLP Version : 5.2.2\n"
          ]
        },
        {
          "output_type": "execute_result",
          "data": {
            "text/plain": [
              "<pyspark.sql.session.SparkSession at 0x7c0743c05b40>"
            ],
            "text/html": [
              "\n",
              "            <div>\n",
              "                <p><b>SparkSession - in-memory</b></p>\n",
              "                \n",
              "        <div>\n",
              "            <p><b>SparkContext</b></p>\n",
              "\n",
              "            <p><a href=\"http://459fbc4508ba:4040\">Spark UI</a></p>\n",
              "\n",
              "            <dl>\n",
              "              <dt>Version</dt>\n",
              "                <dd><code>v3.5.0</code></dd>\n",
              "              <dt>Master</dt>\n",
              "                <dd><code>local[*]</code></dd>\n",
              "              <dt>AppName</dt>\n",
              "                <dd><code>Spark NLP</code></dd>\n",
              "            </dl>\n",
              "        </div>\n",
              "        \n",
              "            </div>\n",
              "        "
            ]
          },
          "metadata": {},
          "execution_count": 8
        }
      ]
    },
    {
      "cell_type": "code",
      "source": [
        "# Ignore this part\n",
        "document_assembler = DocumentAssembler()\\\n",
        ".setInputCol(\"text\")\\\n",
        ".setOutputCol(\"documents\")\n",
        "\n",
        "t5_ = T5Transformer() \\\n",
        "  .pretrained(\"t5_small\", 'en') \\\n",
        "  .setTask(\"summarize:\")\\\n",
        "  .setMaxOutputLength(200)\\\n",
        "  .setInputCols([\"documents\"]) \\\n",
        "  .setOutputCol(\"summaries\")\n",
        "\n",
        "summarizer_pp = Pipeline(stages=[document_assembler, t5_])"
      ],
      "metadata": {
        "colab": {
          "base_uri": "https://localhost:8080/"
        },
        "id": "fFIy-y0V1nac",
        "outputId": "446bf4ac-7413-45c6-ca9f-49c0261f7e41"
      },
      "execution_count": null,
      "outputs": [
        {
          "output_type": "stream",
          "name": "stdout",
          "text": [
            "t5_small download started this may take some time.\n",
            "Approximate size to download 241.9 MB\n",
            "[OK!]\n"
          ]
        }
      ]
    },
    {
      "cell_type": "code",
      "source": [
        "documentAssembler = DocumentAssembler() \\\n",
        "    .setInputCol(\"text\") \\\n",
        "    .setOutputCol(\"documents\")\n",
        "\n",
        "t5 = T5Transformer.pretrained(\"t5_passive_to_active_styletransfer\") \\\n",
        "    .setTask(\"transfer Passive to Active:\") \\\n",
        "    .setInputCols([\"documents\"]) \\\n",
        "    .setMaxOutputLength(200) \\\n",
        "    .setOutputCol(\"transfers\")\n",
        "\n",
        "pipeline = Pipeline().setStages([documentAssembler, t5])"
      ],
      "metadata": {
        "colab": {
          "base_uri": "https://localhost:8080/"
        },
        "id": "DALEn58oAmay",
        "outputId": "5c7cf4fd-8b45-4e4e-e9b7-27a27123ce0b"
      },
      "execution_count": null,
      "outputs": [
        {
          "output_type": "stream",
          "name": "stdout",
          "text": [
            "t5_passive_to_active_styletransfer download started this may take some time.\n",
            "Approximate size to download 253.2 MB\n",
            "[OK!]\n"
          ]
        }
      ]
    },
    {
      "cell_type": "code",
      "source": [
        "# Mounting Drive\n",
        "from google.colab import drive\n",
        "drive.mount('/content/drive')\n",
        "\n",
        "## If you are running for first time\n",
        "# import json\n",
        "# d={}\n",
        "# with open('/content/drive/MyDrive/Database/users.json','w') as f:\n",
        "#   json.dump(d,f)"
      ],
      "metadata": {
        "colab": {
          "base_uri": "https://localhost:8080/"
        },
        "id": "6-amvEKrAvKB",
        "outputId": "609928e4-052c-46d8-ef0f-a4c9b8faa3dd"
      },
      "execution_count": null,
      "outputs": [
        {
          "output_type": "stream",
          "name": "stdout",
          "text": [
            "Drive already mounted at /content/drive; to attempt to forcibly remount, call drive.mount(\"/content/drive\", force_remount=True).\n"
          ]
        }
      ]
    },
    {
      "cell_type": "code",
      "source": [
        "from typing_extensions import Text\n",
        "import json\n",
        "class NLPApp:\n",
        "  # Constructor\n",
        "  def __init__(self):\n",
        "    self.__First_menu()\n",
        "\n",
        "  def __First_menu(self):\n",
        "    first_input = input('''Hi! How would you like to proceed?\n",
        "    1. Register\n",
        "    2. Login\n",
        "    3. Exit\\n''')\n",
        "\n",
        "    if first_input == '1':\n",
        "      # SignUp\n",
        "      self.__Register()\n",
        "      pass\n",
        "\n",
        "    elif first_input == '2':\n",
        "      # SignIn\n",
        "      self.__Login()\n",
        "      pass\n",
        "\n",
        "    else:\n",
        "      # Exit\n",
        "      print('Thank You')\n",
        "      exit()\n",
        "\n",
        "  def __Second_menu(self):\n",
        "    print('\\nWelcome')\n",
        "    first_input = input('''Hi! How would you like to proceed?\n",
        "    1. Text Summarization\n",
        "    2. Passive to Active\n",
        "    3. Exit\\n''')\n",
        "\n",
        "    if first_input == '1':\n",
        "      # SignUp\n",
        "      self.__Text_summary()\n",
        "      pass\n",
        "\n",
        "    elif first_input == '2':\n",
        "      # SignIn\n",
        "      self.__Active()\n",
        "      pass\n",
        "\n",
        "    else:\n",
        "      # Exit\n",
        "      print('Thank You')\n",
        "      exit()\n",
        "\n",
        "  def __Register(self):\n",
        "    name = input('Name: ')\n",
        "    email = input('Email: ')\n",
        "    password = input('Password: ')\n",
        "    cpassword = input('Confirm Password: ')\n",
        "\n",
        "    if cpassword == password:\n",
        "      self.insert(name, email, password)\n",
        "    else:\n",
        "      print('\\nPassword are not matching')\n",
        "      self.__Register()\n",
        "\n",
        "  def __Login(self):\n",
        "    email = input('Email: ')\n",
        "    password = input('Password: ')\n",
        "\n",
        "    self.search(email, password)\n",
        "\n",
        "  def __Text_summary(self):\n",
        "    text = input('Enter Text: ')\n",
        "    empty_df = spark.createDataFrame([['']]).toDF('text')\n",
        "    pipeline_model = summarizer_pp.fit(empty_df)\n",
        "    sum_lmodel = LightPipeline(pipeline_model)\n",
        "    res = sum_lmodel.fullAnnotate(text)[0]\n",
        "    print('Summary:', res['summaries'][0].result)\n",
        "    self.__Second_menu()\n",
        "\n",
        "  def __Active(self):\n",
        "    text = input('Enter Text: ')\n",
        "    pipeline_model = pipeline.fit(spark.createDataFrame([['']]).toDF('text'))\n",
        "    T5model = LightPipeline(pipeline_model)\n",
        "    res = T5model.fullAnnotate(text)[0]\n",
        "    print ('Prediction:', res['transfers'][0].result)\n",
        "    self.__Second_menu()\n",
        "\n",
        "  def insert(self,name,email,password):\n",
        "    with open('/content/drive/MyDrive/Database/users.json','r') as rf:\n",
        "        users = json.load(rf)\n",
        "\n",
        "        if email in users:\n",
        "            print('Email is already registered')\n",
        "            self.__First_menu()\n",
        "        else:\n",
        "            users[email] = [name,password]\n",
        "\n",
        "    with open('/content/drive/MyDrive/Database/users.json','w') as wf:\n",
        "        json.dump(users,wf,indent=4)\n",
        "        print('Registered Successfully. Welcome!!')\n",
        "        self.__Login()\n",
        "\n",
        "  def search(self,email,password):\n",
        "    with open('/content/drive/MyDrive/Database/users.json','r') as rf:\n",
        "        users = json.load(rf)\n",
        "\n",
        "        if email in users:\n",
        "            if users[email][1] == password:\n",
        "                self.__Second_menu()\n",
        "            else:\n",
        "                print('Incorrect password!!')\n",
        "                self.__Second_menu()\n",
        "        else:\n",
        "          print('Email is not registered yet!!')\n",
        "          self.__First_menu()\n",
        "\n",
        "\n",
        "# Creating class object\n",
        "App = NLPApp()"
      ],
      "metadata": {
        "id": "6n7099RCwjRj",
        "colab": {
          "base_uri": "https://localhost:8080/"
        },
        "outputId": "918ee97e-01d6-47de-da7b-d0063fc13a26"
      },
      "execution_count": null,
      "outputs": [
        {
          "output_type": "stream",
          "name": "stdout",
          "text": [
            "Hi! How would you like to proceed?\n",
            "    1. Register\n",
            "    2. Login\n",
            "    3. Exit\n",
            "2\n",
            "Email: tiwaripravin114@gmail.com\n",
            "Password: Pravin@007\n",
            "\n",
            "Welcome\n",
            "Hi! How would you like to proceed?\n",
            "    1. Text Summarization\n",
            "    2. Passive to Active\n",
            "    3. Exit\n",
            "3\n",
            "Thank You\n"
          ]
        }
      ]
    },
    {
      "cell_type": "code",
      "source": [],
      "metadata": {
        "id": "fAqNLDHvGWyI"
      },
      "execution_count": null,
      "outputs": []
    }
  ]
}